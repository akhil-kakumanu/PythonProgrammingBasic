{
  "nbformat": 4,
  "nbformat_minor": 0,
  "metadata": {
    "colab": {
      "name": "BasicOperations.ipynb",
      "provenance": [],
      "authorship_tag": "ABX9TyPN7pibCo5YQlwi6gWl5AEq",
      "include_colab_link": true
    },
    "kernelspec": {
      "name": "python3",
      "display_name": "Python 3"
    },
    "language_info": {
      "name": "python"
    }
  },
  "cells": [
    {
      "cell_type": "markdown",
      "metadata": {
        "id": "view-in-github",
        "colab_type": "text"
      },
      "source": [
        "<a href=\"https://colab.research.google.com/github/akhil-kakumanu/PythonProgrammingBasic/blob/main/BasicOperations.ipynb\" target=\"_parent\"><img src=\"https://colab.research.google.com/assets/colab-badge.svg\" alt=\"Open In Colab\"/></a>"
      ]
    },
    {
      "cell_type": "code",
      "execution_count": 1,
      "metadata": {
        "colab": {
          "base_uri": "https://localhost:8080/"
        },
        "id": "GSQ4HUH4YX87",
        "outputId": "b1623725-5692-4ba5-8fd5-ce4a24747565"
      },
      "outputs": [
        {
          "output_type": "stream",
          "name": "stdout",
          "text": [
            "Hello Python\n"
          ]
        }
      ],
      "source": [
        "print(\"Hello Python\")"
      ]
    },
    {
      "cell_type": "code",
      "source": [
        "a = int(input(\"Enter the First Value: \"))\n",
        "b = int(input(\"Enter the Second Value: \"))\n",
        "\n",
        "print(\"Sum of two Values is: \", a+b)\n",
        "print(\"Divison of two Values is: \", int(a/b))"
      ],
      "metadata": {
        "colab": {
          "base_uri": "https://localhost:8080/"
        },
        "id": "VA-Z4UITZBBV",
        "outputId": "48d9d05b-1791-431d-9790-8a793ca0750c"
      },
      "execution_count": 26,
      "outputs": [
        {
          "output_type": "stream",
          "name": "stdout",
          "text": [
            "Enter the First Value: 10\n",
            "Enter the Second Value: 5\n",
            "Sum of two Values is:  15\n",
            "Divison of two Values is:  2\n"
          ]
        }
      ]
    },
    {
      "cell_type": "code",
      "source": [
        "base = float(input(\"Enter the Base: \"))\n",
        "height = float(input(\"Enter the Height: \"))\n",
        "\n",
        "print(\"Area of the Triangle is\", base*height/2)"
      ],
      "metadata": {
        "colab": {
          "base_uri": "https://localhost:8080/"
        },
        "id": "2Sh-3jfmZIjl",
        "outputId": "fdf2ab6a-9625-486a-d97b-0371e72ae178"
      },
      "execution_count": 15,
      "outputs": [
        {
          "output_type": "stream",
          "name": "stdout",
          "text": [
            "Enter the Base: 10\n",
            "Enter the Height: 5\n",
            "Area of the Triangle is 25.0\n"
          ]
        }
      ]
    },
    {
      "cell_type": "code",
      "source": [
        "a,b=input(\"Enter the Values\").split()\n",
        "a,b=b,a\n",
        "print(\"Values after swapping \", a,b)"
      ],
      "metadata": {
        "colab": {
          "base_uri": "https://localhost:8080/"
        },
        "id": "6kOwRg0ec6MQ",
        "outputId": "b989f836-1495-41a6-9a5d-830ea0f3ea02"
      },
      "execution_count": 20,
      "outputs": [
        {
          "output_type": "stream",
          "name": "stdout",
          "text": [
            "Enter the Values10 5\n",
            "Values after swapping  5 10\n"
          ]
        }
      ]
    },
    {
      "cell_type": "code",
      "source": [
        "import random\n",
        "print(\"Random Number: \", random.randint(0,9))"
      ],
      "metadata": {
        "colab": {
          "base_uri": "https://localhost:8080/"
        },
        "id": "tQ82lryJeE8G",
        "outputId": "2c560acb-87e5-4949-f9b1-a33e24da9ded"
      },
      "execution_count": 27,
      "outputs": [
        {
          "output_type": "stream",
          "name": "stdout",
          "text": [
            "Random Number:  6\n"
          ]
        }
      ]
    }
  ]
}