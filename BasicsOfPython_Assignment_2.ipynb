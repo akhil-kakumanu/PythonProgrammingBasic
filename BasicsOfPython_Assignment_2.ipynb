{
  "nbformat": 4,
  "nbformat_minor": 0,
  "metadata": {
    "colab": {
      "name": "BasicsOfPython_Assignment_2.ipynb",
      "provenance": [],
      "authorship_tag": "ABX9TyOGFx1KzjyBd3dKFF3YUPFz",
      "include_colab_link": true
    },
    "kernelspec": {
      "name": "python3",
      "display_name": "Python 3"
    },
    "language_info": {
      "name": "python"
    }
  },
  "cells": [
    {
      "cell_type": "markdown",
      "metadata": {
        "id": "view-in-github",
        "colab_type": "text"
      },
      "source": [
        "<a href=\"https://colab.research.google.com/github/akhil-kakumanu/PythonProgrammingBasic/blob/main/BasicsOfPython_Assignment_2.ipynb\" target=\"_parent\"><img src=\"https://colab.research.google.com/assets/colab-badge.svg\" alt=\"Open In Colab\"/></a>"
      ]
    },
    {
      "cell_type": "markdown",
      "source": [
        "Convert KiloMeter to Mile"
      ],
      "metadata": {
        "id": "3gs9Gifgd8T4"
      }
    },
    {
      "cell_type": "code",
      "execution_count": null,
      "metadata": {
        "colab": {
          "base_uri": "https://localhost:8080/"
        },
        "id": "BjLno8nXypkJ",
        "outputId": "89c29572-ec5c-49a0-b0be-d275fd3b3ab1"
      },
      "outputs": [
        {
          "output_type": "stream",
          "name": "stdout",
          "text": [
            "Enter the length in KM: 5\n",
            "5.0 KM is 3.1 Miles\n"
          ]
        }
      ],
      "source": [
        "def lengthConverter(lengthInKm):\n",
        "  lengthInMile = lengthInKm*0.62\n",
        "  return lengthInMile\n",
        "\n",
        "lengthInKm = float(input(\"Enter the length in KM: \"))\n",
        "print(str(lengthInKm)+\" KM is \"+str(lengthConverter(lengthInKm))+\" Miles\")"
      ]
    },
    {
      "cell_type": "markdown",
      "source": [
        "Convert Temperature in Celsius to Farenhit"
      ],
      "metadata": {
        "id": "GD5B-QVxeA_G"
      }
    },
    {
      "cell_type": "code",
      "source": [
        "def temperatureConverter(tempInCelsius):  \n",
        "  tempInFarenhit = (tempInCelsius*1.8)+32\n",
        "  return tempInFarenhit\n",
        "\n",
        "tempInCelsius = float(input(\"Enter the length in KM: \"))\n",
        "print(str(tempInCelsius)+\"^C is \"+str(temperatureConverter(tempInCelsius))+\"^F\")"
      ],
      "metadata": {
        "colab": {
          "base_uri": "https://localhost:8080/"
        },
        "id": "5FYXZ6N2_acZ",
        "outputId": "77a6f6d6-b207-4af7-bbeb-9e57f3b9c4ef"
      },
      "execution_count": 21,
      "outputs": [
        {
          "output_type": "stream",
          "name": "stdout",
          "text": [
            "Enter the length in KM: 37.5\n",
            "37.5^C is 99.5^F\n"
          ]
        }
      ]
    },
    {
      "cell_type": "markdown",
      "source": [
        "Print the Calendar of the particular Year"
      ],
      "metadata": {
        "id": "4cxqNdCveFT-"
      }
    },
    {
      "cell_type": "code",
      "source": [
        "import calendar\n",
        "\n",
        "def displayCalendar(year):\n",
        "  print (calendar.calendar(year, 2, 1, 6))\n",
        "\n",
        "year = int(input(\"Enter the Year: \"))\n",
        "displayCalendar(year)"
      ],
      "metadata": {
        "colab": {
          "base_uri": "https://localhost:8080/"
        },
        "id": "AjeshOCK_5RJ",
        "outputId": "feba4c04-e7cc-4bac-b0b9-f335d1b4d7f5"
      },
      "execution_count": 4,
      "outputs": [
        {
          "output_type": "stream",
          "name": "stdout",
          "text": [
            "Enter the Year: 2012\n",
            "                                  2012\n",
            "\n",
            "      January                   February                   March\n",
            "Mo Tu We Th Fr Sa Su      Mo Tu We Th Fr Sa Su      Mo Tu We Th Fr Sa Su\n",
            "                   1             1  2  3  4  5                1  2  3  4\n",
            " 2  3  4  5  6  7  8       6  7  8  9 10 11 12       5  6  7  8  9 10 11\n",
            " 9 10 11 12 13 14 15      13 14 15 16 17 18 19      12 13 14 15 16 17 18\n",
            "16 17 18 19 20 21 22      20 21 22 23 24 25 26      19 20 21 22 23 24 25\n",
            "23 24 25 26 27 28 29      27 28 29                  26 27 28 29 30 31\n",
            "30 31\n",
            "\n",
            "       April                      May                       June\n",
            "Mo Tu We Th Fr Sa Su      Mo Tu We Th Fr Sa Su      Mo Tu We Th Fr Sa Su\n",
            "                   1          1  2  3  4  5  6                   1  2  3\n",
            " 2  3  4  5  6  7  8       7  8  9 10 11 12 13       4  5  6  7  8  9 10\n",
            " 9 10 11 12 13 14 15      14 15 16 17 18 19 20      11 12 13 14 15 16 17\n",
            "16 17 18 19 20 21 22      21 22 23 24 25 26 27      18 19 20 21 22 23 24\n",
            "23 24 25 26 27 28 29      28 29 30 31               25 26 27 28 29 30\n",
            "30\n",
            "\n",
            "        July                     August                  September\n",
            "Mo Tu We Th Fr Sa Su      Mo Tu We Th Fr Sa Su      Mo Tu We Th Fr Sa Su\n",
            "                   1             1  2  3  4  5                      1  2\n",
            " 2  3  4  5  6  7  8       6  7  8  9 10 11 12       3  4  5  6  7  8  9\n",
            " 9 10 11 12 13 14 15      13 14 15 16 17 18 19      10 11 12 13 14 15 16\n",
            "16 17 18 19 20 21 22      20 21 22 23 24 25 26      17 18 19 20 21 22 23\n",
            "23 24 25 26 27 28 29      27 28 29 30 31            24 25 26 27 28 29 30\n",
            "30 31\n",
            "\n",
            "      October                   November                  December\n",
            "Mo Tu We Th Fr Sa Su      Mo Tu We Th Fr Sa Su      Mo Tu We Th Fr Sa Su\n",
            " 1  2  3  4  5  6  7                1  2  3  4                      1  2\n",
            " 8  9 10 11 12 13 14       5  6  7  8  9 10 11       3  4  5  6  7  8  9\n",
            "15 16 17 18 19 20 21      12 13 14 15 16 17 18      10 11 12 13 14 15 16\n",
            "22 23 24 25 26 27 28      19 20 21 22 23 24 25      17 18 19 20 21 22 23\n",
            "29 30 31                  26 27 28 29 30            24 25 26 27 28 29 30\n",
            "                                                    31\n",
            "\n"
          ]
        }
      ]
    },
    {
      "cell_type": "markdown",
      "source": [
        ""
      ],
      "metadata": {
        "id": "GngopA9vd6qm"
      }
    },
    {
      "cell_type": "markdown",
      "source": [
        "Solve a Quadratic equation of type ax^2+bx+c=0"
      ],
      "metadata": {
        "id": "KYnsYeujeLIm"
      }
    },
    {
      "cell_type": "code",
      "source": [
        "import math\n",
        "\n",
        "def quadEquation (a,b,c):\n",
        "  resp1 = (-b+math.sqrt(b*b-4*a*c))/(2*a)\n",
        "  resp2 = (-b-math.sqrt(b*b-4*a*c))/(2*a)\n",
        "  if resp1==resp2:\n",
        "    print(\"Value of X is \"+str(resp1))\n",
        "  else:\n",
        "    print(\"Value of X is \"+str(resp1)+\" or \"+str(resp2))\n",
        "\n",
        "squareValue = float(input(\"Enter the Square value: \"))\n",
        "singleValue = float(input(\"Enter the Single value: \"))\n",
        "constValue = float(input(\"Enter the Constant value: \"))\n",
        "resp = quadEquation(squareValue, singleValue, constValue)"
      ],
      "metadata": {
        "colab": {
          "base_uri": "https://localhost:8080/"
        },
        "id": "JAxLqsIKGnV2",
        "outputId": "35749e4b-062b-4ccb-ed59-ab8249ea8c7b"
      },
      "execution_count": 6,
      "outputs": [
        {
          "output_type": "stream",
          "name": "stdout",
          "text": [
            "Enter the Square value: 1\n",
            "Enter the Single value: -8\n",
            "Enter the Constant value: 12\n",
            "Value of X is 6.0 or 2.0\n"
          ]
        }
      ]
    },
    {
      "cell_type": "markdown",
      "source": [
        "Swap two variables"
      ],
      "metadata": {
        "id": "hrMixFm_eUOt"
      }
    },
    {
      "cell_type": "code",
      "source": [
        "a=5\n",
        "b=7\n",
        "a,b=b,a\n",
        "print(a,b)"
      ],
      "metadata": {
        "colab": {
          "base_uri": "https://localhost:8080/"
        },
        "id": "az4d1uUMdHuz",
        "outputId": "8888ba7d-67af-4562-b08b-bf9dce3d68c4"
      },
      "execution_count": 2,
      "outputs": [
        {
          "output_type": "stream",
          "name": "stdout",
          "text": [
            "7 5\n"
          ]
        }
      ]
    }
  ]
}